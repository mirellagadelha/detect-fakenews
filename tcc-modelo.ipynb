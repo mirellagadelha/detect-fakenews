{
  "nbformat": 4,
  "nbformat_minor": 0,
  "metadata": {
    "colab": {
      "name": "TCC Modelo.ipynb",
      "provenance": [],
      "collapsed_sections": [],
      "toc_visible": true
    },
    "kernelspec": {
      "name": "python3",
      "display_name": "Python 3"
    }
  },
  "cells": [
    {
      "cell_type": "code",
      "metadata": {
        "id": "oEPWLYVKUJOz",
        "colab_type": "code",
        "colab": {}
      },
      "source": [
        ""
      ],
      "execution_count": 0,
      "outputs": []
    },
    {
      "cell_type": "code",
      "metadata": {
        "id": "K_hPZZTvUyVA",
        "colab_type": "code",
        "colab": {}
      },
      "source": [
        "import pandas as pd\n",
        "import numpy as np\n",
        "import itertools\n",
        "from sklearn.feature_extraction.text import CountVectorizer, TfidfVectorizer, HashingVectorizer\n",
        "from sklearn.model_selection import train_test_split\n",
        "from sklearn.linear_model import PassiveAggressiveClassifier\n",
        "from sklearn.naive_bayes import MultinomialNB\n",
        "from sklearn import metrics\n",
        "import matplotlib.pyplot as plt"
      ],
      "execution_count": 0,
      "outputs": []
    },
    {
      "cell_type": "code",
      "metadata": {
        "id": "QN7e8SJPU1Nz",
        "colab_type": "code",
        "colab": {}
      },
      "source": [
        "news = pd.read_csv(\"news-list.csv\", sep=\";\")"
      ],
      "execution_count": 0,
      "outputs": []
    },
    {
      "cell_type": "code",
      "metadata": {
        "id": "NGqQ2CiWVaxQ",
        "colab_type": "code",
        "outputId": "3222fd5d-8213-4d19-f943-071bf061b105",
        "colab": {
          "base_uri": "https://localhost:8080/",
          "height": 265
        }
      },
      "source": [
        "news.head"
      ],
      "execution_count": 3,
      "outputs": [
        {
          "output_type": "execute_result",
          "data": {
            "text/plain": [
              "<bound method NDFrame.head of                                                    data  type\n",
              "0     Lula não se conforma e diz que foi traído pelo...  fake\n",
              "1     Se o Brasil não apoiar a Lava-Jato,  vagabundo...  fake\n",
              "2     Apresentadora do SBT diz que não aguenta mais:...  fake\n",
              "3     Bonner e namorada usam GOL GTS para dar um \"ro...  fake\n",
              "4     Lava-Jato ia pedir a prisão de Lula hoje (17),...  fake\n",
              "...                                                 ...   ...\n",
              "7195  Acusações complicam candidatura de governador ...  true\n",
              "7196  Operação da PF investiga compra de tablets com...  true\n",
              "7197  PF faz buscas em endereços de pessoas ligadas ...  true\n",
              "7198  Capitães da Areia: o dia em que o Estado Novo ...  true\n",
              "7199  Pegada de Macaco, Rolo Compressor, Ritmo Forte...  true\n",
              "\n",
              "[7200 rows x 2 columns]>"
            ]
          },
          "metadata": {
            "tags": []
          },
          "execution_count": 3
        }
      ]
    },
    {
      "cell_type": "code",
      "metadata": {
        "id": "TzIHqSqYVeqj",
        "colab_type": "code",
        "outputId": "0efc2e48-f1b5-4198-9ff0-48d21e48193f",
        "colab": {
          "base_uri": "https://localhost:8080/",
          "height": 229
        }
      },
      "source": [
        "y = news.type\n",
        "print(y)"
      ],
      "execution_count": 4,
      "outputs": [
        {
          "output_type": "stream",
          "text": [
            "0       fake\n",
            "1       fake\n",
            "2       fake\n",
            "3       fake\n",
            "4       fake\n",
            "        ... \n",
            "7195    true\n",
            "7196    true\n",
            "7197    true\n",
            "7198    true\n",
            "7199    true\n",
            "Name: type, Length: 7200, dtype: object\n"
          ],
          "name": "stdout"
        }
      ]
    },
    {
      "cell_type": "code",
      "metadata": {
        "id": "BdeZZP2eWVkn",
        "colab_type": "code",
        "colab": {}
      },
      "source": [
        "news = news.drop('type', axis=1)"
      ],
      "execution_count": 0,
      "outputs": []
    },
    {
      "cell_type": "code",
      "metadata": {
        "id": "HVhLEAk5Wf63",
        "colab_type": "code",
        "outputId": "2cf2e242-dd75-4879-94e0-f22de021fb2e",
        "colab": {
          "base_uri": "https://localhost:8080/",
          "height": 416
        }
      },
      "source": [
        "news"
      ],
      "execution_count": 6,
      "outputs": [
        {
          "output_type": "execute_result",
          "data": {
            "text/html": [
              "<div>\n",
              "<style scoped>\n",
              "    .dataframe tbody tr th:only-of-type {\n",
              "        vertical-align: middle;\n",
              "    }\n",
              "\n",
              "    .dataframe tbody tr th {\n",
              "        vertical-align: top;\n",
              "    }\n",
              "\n",
              "    .dataframe thead th {\n",
              "        text-align: right;\n",
              "    }\n",
              "</style>\n",
              "<table border=\"1\" class=\"dataframe\">\n",
              "  <thead>\n",
              "    <tr style=\"text-align: right;\">\n",
              "      <th></th>\n",
              "      <th>data</th>\n",
              "    </tr>\n",
              "  </thead>\n",
              "  <tbody>\n",
              "    <tr>\n",
              "      <th>0</th>\n",
              "      <td>Lula não se conforma e diz que foi traído pelo...</td>\n",
              "    </tr>\n",
              "    <tr>\n",
              "      <th>1</th>\n",
              "      <td>Se o Brasil não apoiar a Lava-Jato,  vagabundo...</td>\n",
              "    </tr>\n",
              "    <tr>\n",
              "      <th>2</th>\n",
              "      <td>Apresentadora do SBT diz que não aguenta mais:...</td>\n",
              "    </tr>\n",
              "    <tr>\n",
              "      <th>3</th>\n",
              "      <td>Bonner e namorada usam GOL GTS para dar um \"ro...</td>\n",
              "    </tr>\n",
              "    <tr>\n",
              "      <th>4</th>\n",
              "      <td>Lava-Jato ia pedir a prisão de Lula hoje (17),...</td>\n",
              "    </tr>\n",
              "    <tr>\n",
              "      <th>...</th>\n",
              "      <td>...</td>\n",
              "    </tr>\n",
              "    <tr>\n",
              "      <th>7195</th>\n",
              "      <td>Acusações complicam candidatura de governador ...</td>\n",
              "    </tr>\n",
              "    <tr>\n",
              "      <th>7196</th>\n",
              "      <td>Operação da PF investiga compra de tablets com...</td>\n",
              "    </tr>\n",
              "    <tr>\n",
              "      <th>7197</th>\n",
              "      <td>PF faz buscas em endereços de pessoas ligadas ...</td>\n",
              "    </tr>\n",
              "    <tr>\n",
              "      <th>7198</th>\n",
              "      <td>Capitães da Areia: o dia em que o Estado Novo ...</td>\n",
              "    </tr>\n",
              "    <tr>\n",
              "      <th>7199</th>\n",
              "      <td>Pegada de Macaco, Rolo Compressor, Ritmo Forte...</td>\n",
              "    </tr>\n",
              "  </tbody>\n",
              "</table>\n",
              "<p>7200 rows × 1 columns</p>\n",
              "</div>"
            ],
            "text/plain": [
              "                                                   data\n",
              "0     Lula não se conforma e diz que foi traído pelo...\n",
              "1     Se o Brasil não apoiar a Lava-Jato,  vagabundo...\n",
              "2     Apresentadora do SBT diz que não aguenta mais:...\n",
              "3     Bonner e namorada usam GOL GTS para dar um \"ro...\n",
              "4     Lava-Jato ia pedir a prisão de Lula hoje (17),...\n",
              "...                                                 ...\n",
              "7195  Acusações complicam candidatura de governador ...\n",
              "7196  Operação da PF investiga compra de tablets com...\n",
              "7197  PF faz buscas em endereços de pessoas ligadas ...\n",
              "7198  Capitães da Areia: o dia em que o Estado Novo ...\n",
              "7199  Pegada de Macaco, Rolo Compressor, Ritmo Forte...\n",
              "\n",
              "[7200 rows x 1 columns]"
            ]
          },
          "metadata": {
            "tags": []
          },
          "execution_count": 6
        }
      ]
    },
    {
      "cell_type": "code",
      "metadata": {
        "id": "SYY_2OX5egvF",
        "colab_type": "code",
        "colab": {}
      },
      "source": [
        "#n_processed = []\n",
        "#for i in range(len(news['data'])):\n",
        "#    tokenizedText = nltk.word_tokenize(news['data'][i], language='portuguese')\n",
        "#    stemmedText = [t for t in tokenizedText if t not in stopwords]\n",
        "#    news['data'][i] = \" \".join(stemmedText)\n",
        "    \n"
      ],
      "execution_count": 0,
      "outputs": []
    },
    {
      "cell_type": "code",
      "metadata": {
        "id": "E0L2Lb22ja5R",
        "colab_type": "code",
        "outputId": "7e5f1168-783e-41ac-bd04-82b7965e1d77",
        "colab": {
          "base_uri": "https://localhost:8080/",
          "height": 55
        }
      },
      "source": [
        "news['data'][1]"
      ],
      "execution_count": 7,
      "outputs": [
        {
          "output_type": "execute_result",
          "data": {
            "text/plain": [
              "'Se o Brasil não apoiar a Lava-Jato,  vagabundos tomarão conta de tudo! (assista o vídeo da Transparência Internacional).  No Brasil,  foram perdidos bilhões de dólares devido à corrupção.  A Lava-Jato se tornou uma das maiores investigações contra corruptos do mundo. 118 pessoas já foram condenadas,  totalizando 1.256 anos de prisão. Essa operação não pode parar!\\n'"
            ]
          },
          "metadata": {
            "tags": []
          },
          "execution_count": 7
        }
      ]
    },
    {
      "cell_type": "code",
      "metadata": {
        "id": "EKdyxTWUWg0R",
        "colab_type": "code",
        "colab": {}
      },
      "source": [
        "news_train, news_test, type_train, type_test = train_test_split(news['data'], y, test_size=0.33, random_state=53)"
      ],
      "execution_count": 0,
      "outputs": []
    },
    {
      "cell_type": "code",
      "metadata": {
        "id": "86gyQtPdQEqz",
        "colab_type": "code",
        "outputId": "bf844db7-1e26-4608-8078-326a2418c9fa",
        "colab": {
          "base_uri": "https://localhost:8080/",
          "height": 229
        }
      },
      "source": [
        "news_test"
      ],
      "execution_count": 9,
      "outputs": [
        {
          "output_type": "execute_result",
          "data": {
            "text/plain": [
              "319     Empresário diz À PF que obras no sítio de Atib...\n",
              "7155    SÃO PAULO - Nas prateleiras de dezenas de bibl...\n",
              "6718    Após reunião com secretário de Estado dos EUA,...\n",
              "4142    PF diz que uso de algemas nos pés e nas mãos d...\n",
              "4536    Moraes foi filiado ao PSDB, é constitucionalis...\n",
              "                              ...                        \n",
              "1493    Zuckerberg se manifesta com relação às eleiçõe...\n",
              "3818    Investigadores usam diagrama para explicar atu...\n",
              "1176    Kajuru publica áudio e diz que não tem medo de...\n",
              "5310    O juiz federal Sérgio Moro ordenou o bloqueio ...\n",
              "605     Mais um ministro de Temer na cadeia. No dia em...\n",
              "Name: data, Length: 2376, dtype: object"
            ]
          },
          "metadata": {
            "tags": []
          },
          "execution_count": 9
        }
      ]
    },
    {
      "cell_type": "code",
      "metadata": {
        "id": "w_q4apawffzv",
        "colab_type": "code",
        "outputId": "0c7ec41b-907e-4aae-a60f-7e40b365ad7a",
        "colab": {
          "base_uri": "https://localhost:8080/",
          "height": 105
        }
      },
      "source": [
        "import nltk\n",
        "from nltk.stem.snowball import SnowballStemmer\n",
        "\n",
        "nltk.download('punkt')\n",
        "nltk.download('stopwords')"
      ],
      "execution_count": 10,
      "outputs": [
        {
          "output_type": "stream",
          "text": [
            "[nltk_data] Downloading package punkt to /root/nltk_data...\n",
            "[nltk_data]   Unzipping tokenizers/punkt.zip.\n",
            "[nltk_data] Downloading package stopwords to /root/nltk_data...\n",
            "[nltk_data]   Unzipping corpora/stopwords.zip.\n"
          ],
          "name": "stdout"
        },
        {
          "output_type": "execute_result",
          "data": {
            "text/plain": [
              "True"
            ]
          },
          "metadata": {
            "tags": []
          },
          "execution_count": 10
        }
      ]
    },
    {
      "cell_type": "code",
      "metadata": {
        "id": "mBT9Qus2fYSM",
        "colab_type": "code",
        "outputId": "2f83929d-fd92-4b23-dda9-c3206999a9ba",
        "colab": {
          "base_uri": "https://localhost:8080/",
          "height": 55
        }
      },
      "source": [
        "stemmer = SnowballStemmer('portuguese') \n",
        "stopwords = nltk.corpus.stopwords.words('portuguese')\n",
        "\n",
        "print(stopwords)"
      ],
      "execution_count": 11,
      "outputs": [
        {
          "output_type": "stream",
          "text": [
            "['de', 'a', 'o', 'que', 'e', 'é', 'do', 'da', 'em', 'um', 'para', 'com', 'não', 'uma', 'os', 'no', 'se', 'na', 'por', 'mais', 'as', 'dos', 'como', 'mas', 'ao', 'ele', 'das', 'à', 'seu', 'sua', 'ou', 'quando', 'muito', 'nos', 'já', 'eu', 'também', 'só', 'pelo', 'pela', 'até', 'isso', 'ela', 'entre', 'depois', 'sem', 'mesmo', 'aos', 'seus', 'quem', 'nas', 'me', 'esse', 'eles', 'você', 'essa', 'num', 'nem', 'suas', 'meu', 'às', 'minha', 'numa', 'pelos', 'elas', 'qual', 'nós', 'lhe', 'deles', 'essas', 'esses', 'pelas', 'este', 'dele', 'tu', 'te', 'vocês', 'vos', 'lhes', 'meus', 'minhas', 'teu', 'tua', 'teus', 'tuas', 'nosso', 'nossa', 'nossos', 'nossas', 'dela', 'delas', 'esta', 'estes', 'estas', 'aquele', 'aquela', 'aqueles', 'aquelas', 'isto', 'aquilo', 'estou', 'está', 'estamos', 'estão', 'estive', 'esteve', 'estivemos', 'estiveram', 'estava', 'estávamos', 'estavam', 'estivera', 'estivéramos', 'esteja', 'estejamos', 'estejam', 'estivesse', 'estivéssemos', 'estivessem', 'estiver', 'estivermos', 'estiverem', 'hei', 'há', 'havemos', 'hão', 'houve', 'houvemos', 'houveram', 'houvera', 'houvéramos', 'haja', 'hajamos', 'hajam', 'houvesse', 'houvéssemos', 'houvessem', 'houver', 'houvermos', 'houverem', 'houverei', 'houverá', 'houveremos', 'houverão', 'houveria', 'houveríamos', 'houveriam', 'sou', 'somos', 'são', 'era', 'éramos', 'eram', 'fui', 'foi', 'fomos', 'foram', 'fora', 'fôramos', 'seja', 'sejamos', 'sejam', 'fosse', 'fôssemos', 'fossem', 'for', 'formos', 'forem', 'serei', 'será', 'seremos', 'serão', 'seria', 'seríamos', 'seriam', 'tenho', 'tem', 'temos', 'tém', 'tinha', 'tínhamos', 'tinham', 'tive', 'teve', 'tivemos', 'tiveram', 'tivera', 'tivéramos', 'tenha', 'tenhamos', 'tenham', 'tivesse', 'tivéssemos', 'tivessem', 'tiver', 'tivermos', 'tiverem', 'terei', 'terá', 'teremos', 'terão', 'teria', 'teríamos', 'teriam']\n"
          ],
          "name": "stdout"
        }
      ]
    },
    {
      "cell_type": "code",
      "metadata": {
        "id": "HCDanFKdXJ9R",
        "colab_type": "code",
        "colab": {}
      },
      "source": [
        "tfidf_vectorizer = TfidfVectorizer(max_df=0.7)\n",
        "tfidf_train = tfidf_vectorizer.fit_transform(news_train)\n",
        "tfidf_test = tfidf_vectorizer.transform(news_test)"
      ],
      "execution_count": 0,
      "outputs": []
    },
    {
      "cell_type": "code",
      "metadata": {
        "id": "SS1iMTR-dfNv",
        "colab_type": "code",
        "outputId": "0ff2c27c-760e-4218-b76c-b2176e772fda",
        "colab": {
          "base_uri": "https://localhost:8080/",
          "height": 141
        }
      },
      "source": [
        "tfidf_train.toarray()"
      ],
      "execution_count": 13,
      "outputs": [
        {
          "output_type": "execute_result",
          "data": {
            "text/plain": [
              "array([[0., 0., 0., ..., 0., 0., 0.],\n",
              "       [0., 0., 0., ..., 0., 0., 0.],\n",
              "       [0., 0., 0., ..., 0., 0., 0.],\n",
              "       ...,\n",
              "       [0., 0., 0., ..., 0., 0., 0.],\n",
              "       [0., 0., 0., ..., 0., 0., 0.],\n",
              "       [0., 0., 0., ..., 0., 0., 0.]])"
            ]
          },
          "metadata": {
            "tags": []
          },
          "execution_count": 13
        }
      ]
    },
    {
      "cell_type": "code",
      "metadata": {
        "id": "qdbA7nR6b_iP",
        "colab_type": "code",
        "colab": {}
      },
      "source": [
        "def plot_confusion_matrix(cm, classes,\n",
        "                          normalize=False,\n",
        "                          title='Confusion matrix',\n",
        "                          cmap=plt.cm.Blues):\n",
        "  \n",
        "    plt.imshow(cm, interpolation='nearest', cmap=cmap)\n",
        "    plt.title(title)\n",
        "    plt.colorbar()\n",
        "    tick_marks = np.arange(len(classes))\n",
        "    plt.xticks(tick_marks, classes, rotation=45)\n",
        "    plt.yticks(tick_marks, classes)\n",
        "\n",
        "    if normalize:\n",
        "        cm = cm.astype('float') / cm.sum(axis=1)[:, np.newaxis]\n",
        "        print(\"Normalized confusion matrix\")\n",
        "    else:\n",
        "        print('Confusion matrix, without normalization')\n",
        "\n",
        "    thresh = cm.max() / 2.\n",
        "    for i, j in itertools.product(range(cm.shape[0]), range(cm.shape[1])):\n",
        "        plt.text(j, i, cm[i, j],\n",
        "                 horizontalalignment=\"center\",\n",
        "                 color=\"white\" if cm[i, j] > thresh else \"black\")\n",
        "\n",
        "    plt.tight_layout()\n",
        "    plt.ylabel('True label')\n",
        "    plt.xlabel('Predicted label')"
      ],
      "execution_count": 0,
      "outputs": []
    },
    {
      "cell_type": "code",
      "metadata": {
        "id": "rmyRnPanYHOg",
        "colab_type": "code",
        "colab": {
          "base_uri": "https://localhost:8080/",
          "height": 346
        },
        "outputId": "1d220502-b9eb-4188-c9c3-4435d39c3c12"
      },
      "source": [
        "clf = MultinomialNB()\n",
        "clf.fit(tfidf_train, type_train)\n",
        "pred = clf.predict(tfidf_test)\n",
        "score = metrics.accuracy_score(type_test, pred)\n",
        "print(\"accuracy:   %0.3f\" % score)\n",
        "cm = metrics.confusion_matrix(type_test, pred, labels=['fake', 'true'])\n",
        "plot_confusion_matrix(cm, classes=['fake', 'true'])"
      ],
      "execution_count": 15,
      "outputs": [
        {
          "output_type": "stream",
          "text": [
            "accuracy:   0.846\n",
            "Confusion matrix, without normalization\n"
          ],
          "name": "stdout"
        },
        {
          "output_type": "display_data",
          "data": {
            "image/png": "[encoded data removed]",
            "text/plain": [
              "<Figure size 432x288 with 2 Axes>"
            ]
          },
          "metadata": {
            "tags": []
          }
        }
      ]
    },
    {
      "cell_type": "code",
      "metadata": {
        "id": "48BKMsZkcpIn",
        "colab_type": "code",
        "colab": {}
      },
      "source": [
        "count_vectorizer = CountVectorizer()\n",
        "count_train = count_vectorizer.fit_transform(news_train)\n",
        "count_test = count_vectorizer.transform(news_test)"
      ],
      "execution_count": 0,
      "outputs": []
    },
    {
      "cell_type": "code",
      "metadata": {
        "id": "Ub8Zn6wvlrpJ",
        "colab_type": "code",
        "outputId": "71adc59b-95ce-4125-f266-da95ca65c6f7",
        "colab": {
          "base_uri": "https://localhost:8080/",
          "height": 346
        }
      },
      "source": [
        "linear_clf = PassiveAggressiveClassifier(max_iter=1000)\n",
        "linear_clf.fit(tfidf_train, type_train)\n",
        "pred = linear_clf.predict(tfidf_test)\n",
        "score = metrics.accuracy_score(type_test, pred)\n",
        "print(\"accuracy:   %0.3f\" % score)\n",
        "cm = metrics.confusion_matrix(type_test, pred, labels=['fake', 'true'])\n",
        "plot_confusion_matrix(cm, classes=['fake', 'true'])"
      ],
      "execution_count": 17,
      "outputs": [
        {
          "output_type": "stream",
          "text": [
            "accuracy:   0.918\n",
            "Confusion matrix, without normalization\n"
          ],
          "name": "stdout"
        },
        {
          "output_type": "display_data",
          "data": {
            "image/png": "[encoded data removed]",
            "text/plain": [
              "<Figure size 432x288 with 2 Axes>"
            ]
          },
          "metadata": {
            "tags": []
          }
        }
      ]
    },
    {
      "cell_type": "code",
      "metadata": {
        "id": "SFkAIIzGc3Qv",
        "colab_type": "code",
        "colab": {
          "base_uri": "https://localhost:8080/",
          "height": 346
        },
        "outputId": "48fb70bf-e614-4aba-eba7-a4e8f75975f5"
      },
      "source": [
        "clf.fit(count_train, type_train)\n",
        "pred = clf.predict(count_test)\n",
        "score = metrics.accuracy_score(type_test, pred)\n",
        "print(\"accuracy:   %0.3f\" % score)\n",
        "cm = metrics.confusion_matrix(type_test, pred, labels=['fake', 'true'])\n",
        "plot_confusion_matrix(cm, classes=['fake', 'true'])"
      ],
      "execution_count": 18,
      "outputs": [
        {
          "output_type": "stream",
          "text": [
            "accuracy:   0.859\n",
            "Confusion matrix, without normalization\n"
          ],
          "name": "stdout"
        },
        {
          "output_type": "display_data",
          "data": {
            "image/png": "[encoded data removed]",
            "text/plain": [
              "<Figure size 432x288 with 2 Axes>"
            ]
          },
          "metadata": {
            "tags": []
          }
        }
      ]
    }
  ]
}